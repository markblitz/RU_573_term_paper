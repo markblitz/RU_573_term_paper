{
 "cells": [
  {
   "cell_type": "code",
   "execution_count": 1,
   "metadata": {},
   "outputs": [],
   "source": [
    "import numpy as np\n",
    "import matplotlib.pyplot as plt\n",
    "import time"
   ]
  },
  {
   "cell_type": "markdown",
   "metadata": {},
   "source": [
    "This function is used to genertae simple inputs:"
   ]
  },
  {
   "cell_type": "code",
   "execution_count": 2,
   "metadata": {},
   "outputs": [],
   "source": [
    "def generate_sinusoid(N, A, f0, fs, phi):\n",
    "    '''\n",
    "    N(int) : number of samples\n",
    "    A(float) : amplitude\n",
    "    f0(float): frequency in Hz\n",
    "    fs(float): sample rate\n",
    "    phi(float): initial phase\n",
    "    \n",
    "    return \n",
    "    x (numpy array): sinusoid signal which lenght is N\n",
    "    '''\n",
    "    \n",
    "    T = 1/fs\n",
    "    n = np.arange(N)    # [0,1,..., N-1]\n",
    "    x = A * np.cos( 2 * f0 * np.pi * n * T + phi )\n",
    "    \n",
    "    return x"
   ]
  },
  {
   "cell_type": "markdown",
   "metadata": {},
   "source": [
    "This is the DFT method:"
   ]
  },
  {
   "cell_type": "code",
   "execution_count": 3,
   "metadata": {},
   "outputs": [],
   "source": [
    "def DFT(x):\n",
    "    \"\"\"Compute the discrete Fourier Transform of the 1D array x\"\"\"\n",
    "    x = np.asarray(x, dtype=float)\n",
    "    N = x.shape[0]\n",
    "    n = np.arange(N)\n",
    "    k = n.reshape((N, 1))\n",
    "    M = np.exp(-2j * np.pi * k * n / N)\n",
    "    return np.dot(M, x)"
   ]
  },
  {
   "cell_type": "markdown",
   "metadata": {},
   "source": [
    "A testing signal and its plot:"
   ]
  },
  {
   "cell_type": "code",
   "execution_count": 4,
   "metadata": {},
   "outputs": [
    {
     "data": {
      "image/png": "[encoded data removed]",
      "text/plain": [
       "<Figure size 432x288 with 1 Axes>"
      ]
     },
     "metadata": {
      "needs_background": "light"
     },
     "output_type": "display_data"
    }
   ],
   "source": [
    "N = 1024\n",
    "A = 1\n",
    "f0 = 10\n",
    "fs = 2000\n",
    "phi = 0\n",
    "x = generate_sinusoid(N, A, f0, fs, phi)\n",
    "plt.plot(x,'*')\n",
    "plt.show()"
   ]
  },
  {
   "cell_type": "markdown",
   "metadata": {},
   "source": [
    "Take DFT and plot the real part:"
   ]
  },
  {
   "cell_type": "code",
   "execution_count": 5,
   "metadata": {},
   "outputs": [
    {
     "data": {
      "image/png": "[encoded data removed]",
      "text/plain": [
       "<Figure size 432x288 with 1 Axes>"
      ]
     },
     "metadata": {
      "needs_background": "light"
     },
     "output_type": "display_data"
    }
   ],
   "source": [
    "X_DFT = abs(DFT(x))\n",
    "plt.plot(X_DFT)\n",
    "plt.show()"
   ]
  },
  {
   "cell_type": "markdown",
   "metadata": {},
   "source": [
    "Now test if our DFT have same output as build-in function:"
   ]
  },
  {
   "cell_type": "code",
   "execution_count": 6,
   "metadata": {},
   "outputs": [
    {
     "data": {
      "text/plain": [
       "True"
      ]
     },
     "execution_count": 6,
     "metadata": {},
     "output_type": "execute_result"
    }
   ],
   "source": [
    "np.allclose(DFT(x), np.fft.fft(x))"
   ]
  },
  {
   "cell_type": "markdown",
   "metadata": {},
   "source": [
    "the FFT method with cutoff length 1"
   ]
  },
  {
   "cell_type": "code",
   "execution_count": 7,
   "metadata": {},
   "outputs": [],
   "source": [
    "def FFT(x):\n",
    "    \"\"\"A recursive implementation of the 1D Cooley-Tukey FFT\"\"\"\n",
    "    x = np.asarray(x, dtype=float)\n",
    "    N = x.shape[0]\n",
    "\n",
    "    if N <= 1:  # this cutoff should be optimized\n",
    "        return DFT(x)\n",
    "    else:\n",
    "        X_even = FFT(x[::2])\n",
    "        X_odd = FFT(x[1::2])\n",
    "        factor = np.exp(-2j * np.pi * np.arange(N) / N)\n",
    "        return np.concatenate([X_even + factor[:N // 2] * X_odd,\n",
    "                               X_even + factor[N // 2:] * X_odd])"
   ]
  },
  {
   "cell_type": "code",
   "execution_count": 8,
   "metadata": {},
   "outputs": [
    {
     "data": {
      "image/png": "[encoded data removed]",
      "text/plain": [
       "<Figure size 432x288 with 1 Axes>"
      ]
     },
     "metadata": {
      "needs_background": "light"
     },
     "output_type": "display_data"
    }
   ],
   "source": [
    "X_FFT = abs(FFT(x))\n",
    "plt.plot(X_FFT)\n",
    "plt.show()"
   ]
  },
  {
   "cell_type": "code",
   "execution_count": 9,
   "metadata": {},
   "outputs": [
    {
     "data": {
      "text/plain": [
       "True"
      ]
     },
     "execution_count": 9,
     "metadata": {},
     "output_type": "execute_result"
    }
   ],
   "source": [
    "np.allclose(FFT(x), np.fft.fft(x))"
   ]
  },
  {
   "cell_type": "markdown",
   "metadata": {},
   "source": [
    "Below is performance test"
   ]
  },
  {
   "cell_type": "code",
   "execution_count": 11,
   "metadata": {},
   "outputs": [],
   "source": [
    "N = [128, 256, 512, 1024, 2048, 4096, 8192]\n",
    "A = 1\n",
    "f0 = 10\n",
    "fs = 2000\n",
    "phi = 0\n",
    "run_time_dft = []\n",
    "\n",
    "for n in N:\n",
    "    x = generate_sinusoid(n, A, f0, fs, phi)\n",
    "    time_start = time.time()\n",
    "    X_DFT = DFT(x)\n",
    "    time_finish = time.time()\n",
    "    time_run = time_finish - time_start\n",
    "    run_time_dft.append(time_run)\n",
    "    '''\n",
    "    plt.subplot(2,1,1)\n",
    "    plt.plot(x,'*')\n",
    "    plt.title('input signal')\n",
    "    plt.subplot(2,1,2)\n",
    "    plt.plot(X_dft_real)\n",
    "    plt.title('DFT')\n",
    "    plt.show()\n",
    "    '''"
   ]
  },
  {
   "cell_type": "code",
   "execution_count": 12,
   "metadata": {},
   "outputs": [
    {
     "name": "stdout",
     "output_type": "stream",
     "text": [
      "[0.0, 0.004987001419067383, 0.013993024826049805, 0.05282711982727051, 0.22539710998535156, 0.8218040466308594, 3.1835544109344482]\n"
     ]
    }
   ],
   "source": [
    "print(run_time_dft)\n",
    "np.savetxt('./result/runtime_dft.txt', run_time_dft, fmt='%f')"
   ]
  },
  {
   "cell_type": "code",
   "execution_count": 13,
   "metadata": {},
   "outputs": [
    {
     "data": {
      "image/png": "[encoded data removed]",
      "text/plain": [
       "<Figure size 432x288 with 1 Axes>"
      ]
     },
     "metadata": {
      "needs_background": "light"
     },
     "output_type": "display_data"
    }
   ],
   "source": [
    "plt.plot(run_time_dft)\n",
    "plt.show()"
   ]
  },
  {
   "cell_type": "code",
   "execution_count": 17,
   "metadata": {},
   "outputs": [],
   "source": [
    "N = [128, 256, 512, 1024, 2048, 4096, 8192, 16384]\n",
    "run_time_fft = []\n",
    "for n in N:\n",
    "    x = generate_sinusoid(n, A, f0, fs, phi)\n",
    "    time_start = time.time()\n",
    "    X_FFT = FFT(x)\n",
    "    time_finish = time.time()\n",
    "    time_run = time_finish - time_start\n",
    "    run_time_fft.append(time_run)\n",
    "    '''\n",
    "    plt.subplot(2,1,1)\n",
    "    plt.plot(x,'*')\n",
    "    plt.title('input signal')\n",
    "    plt.subplot(2,1,2)\n",
    "    plt.plot(X_fft_real)\n",
    "    plt.title('DFT')\n",
    "    plt.show()\n",
    "    '''"
   ]
  },
  {
   "cell_type": "code",
   "execution_count": 18,
   "metadata": {},
   "outputs": [
    {
     "name": "stdout",
     "output_type": "stream",
     "text": [
      "[0.0019958019256591797, 0.005013227462768555, 0.008948802947998047, 0.016958951950073242, 0.031909942626953125, 0.06382989883422852, 0.13164687156677246, 0.2652919292449951]\n"
     ]
    }
   ],
   "source": [
    "print(run_time_fft)\n",
    "np.savetxt('./result/runtime_fft.txt', run_time_fft, fmt='%f')"
   ]
  },
  {
   "cell_type": "code",
   "execution_count": 22,
   "metadata": {},
   "outputs": [
    {
     "data": {
      "image/png": "[encoded data removed]",
      "text/plain": [
       "<Figure size 432x288 with 1 Axes>"
      ]
     },
     "metadata": {
      "needs_background": "light"
     },
     "output_type": "display_data"
    }
   ],
   "source": [
    "DFT_N = [128, 256, 512, 1024, 2048, 4096, 8192]\n",
    "FFT_N = [128, 256, 512, 1024, 2048, 4096, 8192, 16384]\n",
    "plt.plot(DFT_N, run_time_dft, label = 'DFT runtime')\n",
    "plt.plot(FFT_N, run_time_fft, label = 'FFT runtime')\n",
    "plt.title('time cost as a function of input numbers')\n",
    "plt.xlabel('input number')\n",
    "plt.ylabel('time cost (s)')\n",
    "plt.legend(loc='upper right')\n",
    "#plt.savefig('./plot.jpg')\n",
    "plt.show()"
   ]
  },
  {
   "cell_type": "code",
   "execution_count": 27,
   "metadata": {},
   "outputs": [
    {
     "name": "stdout",
     "output_type": "stream",
     "text": [
      "0.001994609832763672\n"
     ]
    }
   ],
   "source": [
    "N = 100000\n",
    "A = 1\n",
    "f0 = 10\n",
    "fs = 2000\n",
    "phi = 0\n",
    "x = generate_sinusoid(N, A, f0, fs, phi)\n",
    "time_start = time.time()\n",
    "np.fft.fft(x)\n",
    "time_finish = time.time()\n",
    "time_run = time_finish - time_start\n",
    "print(time_run)"
   ]
  },
  {
   "cell_type": "code",
   "execution_count": null,
   "metadata": {},
   "outputs": [],
   "source": []
  }
 ],
 "metadata": {
  "kernelspec": {
   "display_name": "Python 3",
   "language": "python",
   "name": "python3"
  },
  "language_info": {
   "codemirror_mode": {
    "name": "ipython",
    "version": 3
   },
   "file_extension": ".py",
   "mimetype": "text/x-python",
   "name": "python",
   "nbconvert_exporter": "python",
   "pygments_lexer": "ipython3",
   "version": "3.7.6"
  }
 },
 "nbformat": 4,
 "nbformat_minor": 4
}
